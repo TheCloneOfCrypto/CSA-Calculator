{
  "nbformat": 4,
  "nbformat_minor": 0,
  "metadata": {
    "colab": {
      "provenance": [],
      "include_colab_link": true
    },
    "kernelspec": {
      "name": "python3",
      "display_name": "Python 3"
    },
    "language_info": {
      "name": "python"
    }
  },
  "cells": [
    {
      "cell_type": "markdown",
      "metadata": {
        "id": "view-in-github",
        "colab_type": "text"
      },
      "source": [
        "<a href=\"https://colab.research.google.com/github/TheCloneOfCrypto/CSA-Calculator/blob/main/Free_Youtube_Downloader_by_Devin_McPaul.ipynb\" target=\"_parent\"><img src=\"https://colab.research.google.com/assets/colab-badge.svg\" alt=\"Open In Colab\"/></a>"
      ]
    },
    {
      "cell_type": "code",
      "source": [
        "from google.colab import drive\n",
        "drive.mount('/content/drive')"
      ],
      "metadata": {
        "id": "mcwf3CDjLUaP"
      },
      "execution_count": null,
      "outputs": []
    },
    {
      "cell_type": "code",
      "execution_count": null,
      "metadata": {
        "id": "AgkuyFOiIzgp"
      },
      "outputs": [],
      "source": [
        "!python -m pip install -U -qq pytube\n",
        "!python -m pip install -U -qq pytubefix"
      ]
    },
    {
      "cell_type": "code",
      "source": [
        "# @title Input Area\n",
        "\n",
        "file_name = '' # @param {type:'string'}\n",
        "\n",
        "drive_folder = '' # @param {type:'string'}"
      ],
      "metadata": {
        "cellView": "form",
        "id": "yHK7aG3bLVLs"
      },
      "execution_count": null,
      "outputs": []
    },
    {
      "cell_type": "code",
      "source": [
        "# @title Code Area\n",
        "\n",
        "import warnings\n",
        "import os\n",
        "import shutil\n",
        "import zipfile\n",
        "from tqdm import tqdm\n",
        "import pandas as pd\n",
        "# from pytube import YouTube\n",
        "from pytubefix import YouTube\n",
        "\n",
        "warnings.filterwarnings('ignore')\n",
        "\n",
        "df = pd.read_csv(file_name)\n",
        "posts = df['url'].tolist()\n",
        "print(f'Found {len(posts)} posts', end='\\n\\n')\n",
        "\n",
        "\n",
        "for post in tqdm(posts):\n",
        "    try:\n",
        "        yt = YouTube(post)\n",
        "        yt.streams.filter(progressive=True, file_extension=\"mp4\").order_by(\"resolution\").desc().first().download()\n",
        "    except Exception as e:\n",
        "        print(f'Error: {e}')\n",
        "\n",
        "\n",
        "video_files = [f for f in os.listdir() if f.endswith('.mp4')]\n",
        "\n",
        "with zipfile.ZipFile(\"Youtube Downloader Output.zip\", \"w\") as zipObj:\n",
        "    for f in video_files:\n",
        "        zipObj.write(f, os.path.basename(f))\n",
        "        os.remove(f)\n",
        "\n",
        "if os.path.exists(os.path.join(drive_folder, 'Youtube Downloader Output.zip')):\n",
        "    os.remove(os.path.join(drive_folder, 'Youtube Downloader Output.zip'))\n",
        "\n",
        "shutil.move('Youtube Downloader Output.zip', drive_folder)\n",
        "print(f'\\n\\nDownloaded {len(posts)} posts and zipped them into Youtube Downloader Output.zip')"
      ],
      "metadata": {
        "cellView": "form",
        "id": "Wnk-DWqeJER_"
      },
      "execution_count": null,
      "outputs": []
    }
  ]
}